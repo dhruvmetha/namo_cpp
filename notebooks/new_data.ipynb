{
 "cells": [
  {
   "cell_type": "code",
   "execution_count": 1,
   "id": "3a200488",
   "metadata": {},
   "outputs": [],
   "source": [
    "import pickle\n",
    "import numpy as np\n",
    "data_dir = \"/common/home/dm1487/robotics_research/ktamp/namo/region_opening_data/modular_data_less/less_env_000078\"\n",
    "\n",
    "# region_opening_data/modular_data_less/less_env_000077/"
   ]
  },
  {
   "cell_type": "code",
   "execution_count": 2,
   "id": "a1b7962f",
   "metadata": {},
   "outputs": [],
   "source": [
    "data = np.load(data_dir + \"/less_env_000078_episode_0_neighbour_0_goal_step_0.npz\")"
   ]
  },
  {
   "cell_type": "code",
   "execution_count": 3,
   "id": "2b083bd0",
   "metadata": {},
   "outputs": [
    {
     "data": {
      "text/plain": [
       "array(['../ml4kp_ktamp/resources/models/custom_walled_envs/aug9/medium/set1/benchmark_1/env_config_105c.xml'],\n",
       "      dtype='<U99')"
      ]
     },
     "execution_count": 3,
     "metadata": {},
     "output_type": "execute_result"
    }
   ],
   "source": [
    "data['xml_file']"
   ]
  },
  {
   "cell_type": "code",
   "execution_count": 4,
   "id": "41f72f2f",
   "metadata": {},
   "outputs": [
    {
     "data": {
      "text/plain": [
       "<matplotlib.image.AxesImage at 0x7b3d997f7e10>"
      ]
     },
     "execution_count": 4,
     "metadata": {},
     "output_type": "execute_result"
    },
    {
     "data": {
      "image/png": "[encoded data removed]",
      "text/plain": [
       "<Figure size 640x480 with 2 Axes>"
      ]
     },
     "metadata": {},
     "output_type": "display_data"
    }
   ],
   "source": [
    "from matplotlib import pyplot as plt\n",
    "\n",
    "fig, axes = plt.subplots(1, 2)\n",
    "\n",
    "axes[0].imshow(data['static'] + data['movable'] + data['robot'] + data['goal'], cmap='gray')\n",
    "axes[1].imshow(data['static'] + data['robot'] + data['goal'] + data['target_goal'], cmap='gray')\n"
   ]
  },
  {
   "cell_type": "code",
   "execution_count": 42,
   "id": "f590a720",
   "metadata": {},
   "outputs": [
    {
     "data": {
      "text/plain": [
       "['robot',\n",
       " 'goal',\n",
       " 'movable',\n",
       " 'static',\n",
       " 'reachable',\n",
       " 'target_object',\n",
       " 'target_goal',\n",
       " 'robot_distance',\n",
       " 'goal_distance',\n",
       " 'episode_id',\n",
       " 'task_id',\n",
       " 'algorithm',\n",
       " 'solution_depth',\n",
       " 'search_time_ms',\n",
       " 'nodes_expanded',\n",
       " 'robot_goal',\n",
       " 'xml_file',\n",
       " 'action_object_ids',\n",
       " 'action_targets']"
      ]
     },
     "execution_count": 42,
     "metadata": {},
     "output_type": "execute_result"
    }
   ],
   "source": [
    "list(data.keys())"
   ]
  },
  {
   "cell_type": "code",
   "execution_count": null,
   "id": "eade0005",
   "metadata": {},
   "outputs": [],
   "source": []
  }
 ],
 "metadata": {
  "kernelspec": {
   "display_name": "Python 3",
   "language": "python",
   "name": "python3"
  },
  "language_info": {
   "codemirror_mode": {
    "name": "ipython",
    "version": 3
   },
   "file_extension": ".py",
   "mimetype": "text/x-python",
   "name": "python",
   "nbconvert_exporter": "python",
   "pygments_lexer": "ipython3",
   "version": "3.11.11"
  }
 },
 "nbformat": 4,
 "nbformat_minor": 5
}
